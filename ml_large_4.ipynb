{
  "nbformat": 4,
  "nbformat_minor": 0,
  "metadata": {
    "colab": {
      "provenance": [],
      "collapsed_sections": [
        "vGOu4cYtMXbT",
        "fr7r2eLR7McR",
        "OpOiytMlcj1g"
      ],
      "toc_visible": true,
      "authorship_tag": "ABX9TyOoIdkT41c+JJQitX4ffPjK",
      "include_colab_link": true
    },
    "kernelspec": {
      "name": "python3",
      "display_name": "Python 3"
    },
    "language_info": {
      "name": "python"
    }
  },
  "cells": [
    {
      "cell_type": "markdown",
      "metadata": {
        "id": "view-in-github",
        "colab_type": "text"
      },
      "source": [
        "<a href=\"https://colab.research.google.com/github/Rodisolomon/Rodisolomon/blob/main/ml_large_4.ipynb\" target=\"_parent\"><img src=\"https://colab.research.google.com/assets/colab-badge.svg\" alt=\"Open In Colab\"/></a>"
      ]
    },
    {
      "cell_type": "markdown",
      "source": [
        "## preprocess"
      ],
      "metadata": {
        "id": "vGOu4cYtMXbT"
      }
    },
    {
      "cell_type": "code",
      "execution_count": 1,
      "metadata": {
        "colab": {
          "base_uri": "https://localhost:8080/"
        },
        "id": "V--Qsnq92Sbz",
        "outputId": "b83d6b14-0a93-487a-9654-f009b762f432"
      },
      "outputs": [
        {
          "output_type": "stream",
          "name": "stdout",
          "text": [
            "Mounted at /content/drive\n"
          ]
        }
      ],
      "source": [
        "import json\n",
        "from google.colab import drive\n",
        "from pprint import pprint\n",
        "from sklearn.cluster import KMeans\n",
        "from sklearn.cluster import SpectralClustering\n",
        "from sklearn.decomposition import PCA\n",
        "import matplotlib.pyplot as plt\n",
        "import numpy as np\n",
        "from numpy.linalg import eig\n",
        "from sklearn.linear_model import LogisticRegression\n",
        "from keras.datasets import mnist\n",
        "from scipy.special import softmax\n",
        "from scipy.special import logsumexp\n",
        "\n",
        "drive.mount('/content/drive', force_remount=True)\n",
        "data = np.load(\"/content/drive/MyDrive/ml_large/MNIST_data.npy\")\n",
        "%matplotlib inline"
      ]
    },
    {
      "cell_type": "code",
      "source": [
        "nrows = 4\n",
        "ncols = 5\n",
        "plt.figure(figsize=(ncols*2, nrows*2))\n",
        "for i in range(nrows*ncols):\n",
        "    plt.subplot(nrows, ncols, i+1)\n",
        "    plt.imshow(data[60000+i].reshape((28,28)), cmap='gray')\n",
        "    plt.axis('off')\n",
        "plt.show()"
      ],
      "metadata": {
        "colab": {
          "base_uri": "https://localhost:8080/",
          "height": 0
        },
        "id": "hzMt3QNX5kd4",
        "outputId": "97455564-4206-40ac-9c79-34587865ffa5"
      },
      "execution_count": 2,
      "outputs": [
        {
          "output_type": "display_data",
          "data": {
            "text/plain": [
              "<Figure size 1000x800 with 20 Axes>"
            ],
            "image/png": "[encoded data removed]"
          },
          "metadata": {}
        }
      ]
    },
    {
      "cell_type": "code",
      "source": [
        "(X, y), (X2, y2)  = mnist.load_data()"
      ],
      "metadata": {
        "colab": {
          "base_uri": "https://localhost:8080/"
        },
        "id": "WLXgrO9EV6UH",
        "outputId": "1f459a2d-63e8-4741-f6fb-c082ddf2634b"
      },
      "execution_count": 3,
      "outputs": [
        {
          "output_type": "stream",
          "name": "stdout",
          "text": [
            "Downloading data from https://storage.googleapis.com/tensorflow/tf-keras-datasets/mnist.npz\n",
            "11490434/11490434 [==============================] - 0s 0us/step\n"
          ]
        }
      ]
    },
    {
      "cell_type": "code",
      "source": [
        "X = np.vstack((X, X2))\n",
        "y = np.append(y, y2)\n",
        "n1 = int(0.2 * X.shape[0]) #validation\n",
        "n2 = int(0.8 * X.shape[0]) #train+test\n",
        "print(X.shape, y.shape)\n",
        "idx_1 = np.random.choice(X.shape[0], n1, replace=False)\n",
        "idx_2 = np.setdiff1d(np.arange(X.shape[0]), idx_1)\n",
        "\n",
        "X_tot, y_tot, vali_X, vali_y = X[idx_2], y[idx_2], X[idx_1], y[idx_1]\n",
        "\n",
        "idx_3 = np.random.choice(X_tot.shape[0], n1, replace=False)\n",
        "idx_4 = np.setdiff1d(np.arange(X_tot.shape[0]), idx_3)\n",
        "tr_X, tr_y, t_X, t_y = X[idx_4], y[idx_4], X[idx_3], y[idx_3]\n",
        "\n",
        "combo_X, combo_y = np.vstack((tr_X, vali_X)), np.append(tr_y, vali_y)\n",
        "print(tr_X.shape, vali_X.shape, t_X.shape, combo_X.shape)\n",
        "print(tr_y.shape, vali_y.shape, t_y.shape, combo_y.shape)"
      ],
      "metadata": {
        "colab": {
          "base_uri": "https://localhost:8080/"
        },
        "id": "9-nwgpHvaVYm",
        "outputId": "f85f1bc4-cc14-4300-e5e4-c098d329a747"
      },
      "execution_count": 4,
      "outputs": [
        {
          "output_type": "stream",
          "name": "stdout",
          "text": [
            "(70000, 28, 28) (70000,)\n",
            "(42000, 28, 28) (14000, 28, 28) (14000, 28, 28) (56000, 28, 28)\n",
            "(42000,) (14000,) (14000,) (56000,)\n"
          ]
        }
      ]
    },
    {
      "cell_type": "code",
      "source": [
        "#binarize\n",
        "def binarize(data):\n",
        "  b_data = np.where(data >= 0.5, 1, 0)\n",
        "  return b_data\n",
        "b_tx = binarize(tr_X)\n",
        "#print(b_data[0], b_data.shape)\n",
        "plt.imshow(b_tx[0], cmap=\"gray\")\n",
        "print(b_tx.shape)"
      ],
      "metadata": {
        "id": "DDuKiNsXrMUo",
        "colab": {
          "base_uri": "https://localhost:8080/",
          "height": 0
        },
        "outputId": "e3f85256-c46c-4da3-cd62-7431fa8a4245"
      },
      "execution_count": 5,
      "outputs": [
        {
          "output_type": "stream",
          "name": "stdout",
          "text": [
            "(42000, 28, 28)\n"
          ]
        },
        {
          "output_type": "display_data",
          "data": {
            "text/plain": [
              "<Figure size 640x480 with 1 Axes>"
            ],
            "image/png": "[encoded data removed]"
          },
          "metadata": {}
        }
      ]
    },
    {
      "cell_type": "code",
      "source": [
        "from numpy.ma.core import divide\n",
        "#classify into dictionary based on y (label)\n",
        "def classify(x, y):\n",
        "  dic = {}\n",
        "  for i in range(10):\n",
        "    x = binarize(x.reshape(x.shape[0], 784))\n",
        "    dic[i] = x[y == i]\n",
        "    #print(dic[i].shape)\n",
        "  return dic\n",
        "\n",
        "tr_dic, vali_dic, t_dic, combo_dic = classify(tr_X, tr_y), classify(vali_X, vali_y), classify(t_X, t_y), classify(combo_X, combo_y)"
      ],
      "metadata": {
        "id": "Iybn7tCoWoY5"
      },
      "execution_count": 6,
      "outputs": []
    },
    {
      "cell_type": "code",
      "source": [
        "def reshape(x):\n",
        "  return x.reshape(x.shape[0], 784)"
      ],
      "metadata": {
        "id": "e6yh2_B1VOyq"
      },
      "execution_count": 7,
      "outputs": []
    },
    {
      "cell_type": "markdown",
      "source": [
        "## Bayes rule with Bernoulli mixtures"
      ],
      "metadata": {
        "id": "fr7r2eLR7McR"
      }
    },
    {
      "cell_type": "code",
      "source": [
        "def EM_algo(data, M): \n",
        "  #initiate, input must be binary\n",
        "  data = binarize(data)\n",
        "  n_mean = np.mean(data, axis=0)\n",
        "  d, N = data[0].size, data[:, 0].size\n",
        "\n",
        "  arr = np.random.rand(N, M)\n",
        "  row_sums = arr.sum(axis=1)\n",
        "  W = arr*(10**2) / row_sums.reshape((-1, 1))\n",
        "  lik = 0\n",
        "  #iteration\n",
        "  for i in range(1000):\n",
        "    pi, P = W.mean(axis=0), (data.T @ W + 1) / (W.sum(axis=0) + 2) \n",
        "    f = np.dot(data, np.log(P)) + np.dot(1 - data, np.log(1 - P)) + np.log(pi)\n",
        "    W = np.exp(f - np.max(f, axis=1, keepdims=True))\n",
        "    W = (W+0.0001) / (W.sum(axis=1,keepdims=True) + 0.0001) #prevent from dividing by 0\n",
        "\n",
        "    new_lik = np.sum(np.log(W @ pi + 0.0001))\n",
        "    #print(f\"epoch {i}, newlikelihood = {new_lik}\")\n",
        "    if abs(lik - new_lik) < 0.001: #break/convergenc condition\n",
        "      break #converge\n",
        "    lik = new_lik\n",
        "  return P, pi"
      ],
      "metadata": {
        "id": "1MyIBxWxBmCC"
      },
      "execution_count": 52,
      "outputs": []
    },
    {
      "cell_type": "code",
      "source": [
        "# p, pi = EM_algo(b_tx, 10)\n",
        "# fig, axs = plt.subplots(nrows=1, ncols=10, figsize=(15, 5))\n",
        "# for i in range(10): #when M = 10\n",
        "#   axs[i].imshow(p[:,i].reshape((28, 28)), cmap='gray')\n",
        "\n",
        "\n",
        "# print(p.shape, pi.shape)\n",
        "# tr_dic, vali_dic, t_dic = classify(tr_X), classify(vali_X), classify(t_X)\n",
        "# return -> (784, 10) (10,)\n",
        "\n",
        "# code to test around shape of EM wrapper\n",
        "# product = b_tx @ np.log(p) + (1-b_tx) @ np.log(1-p)\n",
        "# print(b_tx.shape, np.log(p).shape, (b_tx @ np.log(p)).shape, product.shape, pi.shape)\n",
        "# print(product[:1])\n",
        "# f = np.exp(product) @ pi\n",
        "# print(f.shape) "
      ],
      "metadata": {
        "id": "HdKC6__k7gK7"
      },
      "execution_count": 8,
      "outputs": []
    },
    {
      "cell_type": "code",
      "source": [
        "def EM_wrapper(tr_dic, vali_X, vali_y): #wrapper fxn\n",
        "  err_rate = []\n",
        "  for M in [1, 5, 10, 20]:\n",
        "    print(f\"========= test mixture model with M = {M} =========\")\n",
        "    f_dic = {}\n",
        "    for y in range(10):\n",
        "      p, pi = EM_algo(tr_dic[y], M)\n",
        "      product = vali_X @ np.log(p) + (1-vali_X) @ np.log(1-p) #ixc + paim, compute maximum of every row\n",
        "      #f2 = np.exp(product*0.001) @ pi #number_of_data:1, choose the biggest one among all y as the right label\n",
        "      f = logsumexp((product*0.001 + np.log(pi)), axis=1)\n",
        "      #print(f[0], f2[0], pi, np.log(pi))\n",
        "      f_dic[y] = f\n",
        "      #print(f)\n",
        "      #print(f\"the first dp with label {y} has result {f[1]}\")\n",
        "    #calculate error rate\n",
        "    predict_label = []\n",
        "    for i in range(vali_y.size):\n",
        "      max_p, max_l = float('-inf'), float('-inf')\n",
        "      for y2 in range(10):\n",
        "        if f_dic[y2][i] > max_p:\n",
        "          max_p, max_l = f_dic[y2][i], y2\n",
        "      predict_label.append(max_l)\n",
        "    err = np.count_nonzero(predict_label != vali_y)\n",
        "    print(f\"error rate for M = {M} is {err/vali_y.size}\")\n",
        "    err_rate.append(err)\n"
      ],
      "metadata": {
        "id": "0jfYt_IUTk-P"
      },
      "execution_count": 75,
      "outputs": []
    },
    {
      "cell_type": "code",
      "source": [
        "EM_wrapper(tr_dic, vali_X.reshape(vali_X.shape[0], 784), vali_y)"
      ],
      "metadata": {
        "colab": {
          "base_uri": "https://localhost:8080/"
        },
        "id": "rByt8MeUE5oM",
        "outputId": "4196e86a-623b-4f06-cfd1-d2a8d167d7fc"
      },
      "execution_count": 76,
      "outputs": [
        {
          "output_type": "stream",
          "name": "stdout",
          "text": [
            "========= test mixture model with M = 1 =========\n",
            "error rate for M = 1 is 0.27014285714285713\n",
            "========= test mixture model with M = 5 =========\n",
            "error rate for M = 5 is 0.2005\n",
            "========= test mixture model with M = 10 =========\n",
            "error rate for M = 10 is 0.18978571428571428\n",
            "========= test mixture model with M = 20 =========\n",
            "error rate for M = 20 is 0.19235714285714287\n"
          ]
        }
      ]
    },
    {
      "cell_type": "markdown",
      "source": [
        "According to the test result above, I decide to choose M = 10 (which gives back the lowest error rate)"
      ],
      "metadata": {
        "id": "fmCryyi1Elv-"
      }
    },
    {
      "cell_type": "code",
      "source": [
        "def EM_wrapper_t(tr_dic, vali_X, vali_y, M): #wrapper fxn\n",
        "  print(f\"========= test mixture model with M = {M} =========\")\n",
        "  f_dic = {}\n",
        "  for y in range(10):\n",
        "    p, pi = EM_algo(tr_dic[y], M)\n",
        "    product = vali_X @ np.log(p) + (1-vali_X) @ np.log(1-p) #ixc + paim, compute maximum of every row\n",
        "    #f2 = np.exp(product*0.001) @ pi #number_of_data:1, choose the biggest one among all y as the right label\n",
        "    f = logsumexp((product*0.001 + np.log(pi)), axis=1)\n",
        "    #print(f[0], f2[0], pi, np.log(pi))\n",
        "    f_dic[y] = f\n",
        "    #print(f)\n",
        "    #print(f\"the first dp with label {y} has result {f[1]}\")\n",
        "  #calculate error rate\n",
        "  predict_label = []\n",
        "  for i in range(vali_y.size):\n",
        "    max_p, max_l = float('-inf'), float('-inf')\n",
        "    for y2 in range(10):\n",
        "      if f_dic[y2][i] > max_p:\n",
        "        max_p, max_l = f_dic[y2][i], y2\n",
        "    predict_label.append(max_l)\n",
        "  err = np.count_nonzero(predict_label != vali_y)\n",
        "  print(f\"error rate for M = {M} is {err/vali_y.size}\")\n"
      ],
      "metadata": {
        "id": "zGTMMbwBBsxw"
      },
      "execution_count": 79,
      "outputs": []
    },
    {
      "cell_type": "code",
      "source": [
        "print(combo_dic[0].shape, t_X.shape, t_y.shape)"
      ],
      "metadata": {
        "colab": {
          "base_uri": "https://localhost:8080/"
        },
        "id": "pYLX3vv5UmEc",
        "outputId": "830bb51e-81a0-40bd-9ac9-7faf99f8e0a7"
      },
      "execution_count": 82,
      "outputs": [
        {
          "output_type": "stream",
          "name": "stdout",
          "text": [
            "(5531, 784) (14000, 28, 28) (14000,)\n"
          ]
        }
      ]
    },
    {
      "cell_type": "code",
      "source": [
        "EM_wrapper_t(combo_dic, reshape(t_X), t_y, 10)"
      ],
      "metadata": {
        "colab": {
          "base_uri": "https://localhost:8080/"
        },
        "id": "PbLS1iLYTzVN",
        "outputId": "a30e922e-34e8-4c79-8462-8196ce535d37"
      },
      "execution_count": 85,
      "outputs": [
        {
          "output_type": "stream",
          "name": "stdout",
          "text": [
            "========= test mixture model with M = 10 =========\n",
            "error rate for M = 10 is 0.20257142857142857\n"
          ]
        }
      ]
    },
    {
      "cell_type": "markdown",
      "source": [
        "## Logistic regression"
      ],
      "metadata": {
        "id": "ORrQhb-pTaNE"
      }
    },
    {
      "cell_type": "markdown",
      "source": [
        "### raw data"
      ],
      "metadata": {
        "id": "OpOiytMlcj1g"
      }
    },
    {
      "cell_type": "code",
      "source": [
        "for C in [1e-8, 1e-5, 1e-2, 1, 100, 1e5]:\n",
        "  lr = LogisticRegression(fit_intercept=True, C=C, penalty=\"l2\", multi_class=\"multinomial\", solver=\"lbfgs\")\n",
        "  lr.fit(tr_X.reshape(tr_X.shape[0], 784), tr_y)\n",
        "  lr_r_label = lr.predict(vali_X.reshape(vali_X.shape[0], 784))\n",
        "  lr_r_err = np.count_nonzero(lr_r_label != vali_y)\n",
        "  print(f\"for C = {C}, error rate is {lr_r_err/vali_y.size}\")"
      ],
      "metadata": {
        "colab": {
          "base_uri": "https://localhost:8080/"
        },
        "id": "3SHu_VAxTdMx",
        "outputId": "8b121642-8724-4f97-9237-04a9caf2d68c"
      },
      "execution_count": 11,
      "outputs": [
        {
          "output_type": "stream",
          "name": "stderr",
          "text": [
            "/usr/local/lib/python3.9/dist-packages/sklearn/linear_model/_logistic.py:458: ConvergenceWarning: lbfgs failed to converge (status=1):\n",
            "STOP: TOTAL NO. of ITERATIONS REACHED LIMIT.\n",
            "\n",
            "Increase the number of iterations (max_iter) or scale the data as shown in:\n",
            "    https://scikit-learn.org/stable/modules/preprocessing.html\n",
            "Please also refer to the documentation for alternative solver options:\n",
            "    https://scikit-learn.org/stable/modules/linear_model.html#logistic-regression\n",
            "  n_iter_i = _check_optimize_result(\n"
          ]
        },
        {
          "output_type": "stream",
          "name": "stdout",
          "text": [
            "for C = 1e-08, error rate is 0.11371428571428571\n"
          ]
        },
        {
          "output_type": "stream",
          "name": "stderr",
          "text": [
            "/usr/local/lib/python3.9/dist-packages/sklearn/linear_model/_logistic.py:458: ConvergenceWarning: lbfgs failed to converge (status=1):\n",
            "STOP: TOTAL NO. of ITERATIONS REACHED LIMIT.\n",
            "\n",
            "Increase the number of iterations (max_iter) or scale the data as shown in:\n",
            "    https://scikit-learn.org/stable/modules/preprocessing.html\n",
            "Please also refer to the documentation for alternative solver options:\n",
            "    https://scikit-learn.org/stable/modules/linear_model.html#logistic-regression\n",
            "  n_iter_i = _check_optimize_result(\n"
          ]
        },
        {
          "output_type": "stream",
          "name": "stdout",
          "text": [
            "for C = 1e-05, error rate is 0.07121428571428572\n"
          ]
        },
        {
          "output_type": "stream",
          "name": "stderr",
          "text": [
            "/usr/local/lib/python3.9/dist-packages/sklearn/linear_model/_logistic.py:458: ConvergenceWarning: lbfgs failed to converge (status=1):\n",
            "STOP: TOTAL NO. of ITERATIONS REACHED LIMIT.\n",
            "\n",
            "Increase the number of iterations (max_iter) or scale the data as shown in:\n",
            "    https://scikit-learn.org/stable/modules/preprocessing.html\n",
            "Please also refer to the documentation for alternative solver options:\n",
            "    https://scikit-learn.org/stable/modules/linear_model.html#logistic-regression\n",
            "  n_iter_i = _check_optimize_result(\n"
          ]
        },
        {
          "output_type": "stream",
          "name": "stdout",
          "text": [
            "for C = 0.01, error rate is 0.0715\n"
          ]
        },
        {
          "output_type": "stream",
          "name": "stderr",
          "text": [
            "/usr/local/lib/python3.9/dist-packages/sklearn/linear_model/_logistic.py:458: ConvergenceWarning: lbfgs failed to converge (status=1):\n",
            "STOP: TOTAL NO. of ITERATIONS REACHED LIMIT.\n",
            "\n",
            "Increase the number of iterations (max_iter) or scale the data as shown in:\n",
            "    https://scikit-learn.org/stable/modules/preprocessing.html\n",
            "Please also refer to the documentation for alternative solver options:\n",
            "    https://scikit-learn.org/stable/modules/linear_model.html#logistic-regression\n",
            "  n_iter_i = _check_optimize_result(\n"
          ]
        },
        {
          "output_type": "stream",
          "name": "stdout",
          "text": [
            "for C = 1, error rate is 0.07107142857142858\n"
          ]
        },
        {
          "output_type": "stream",
          "name": "stderr",
          "text": [
            "/usr/local/lib/python3.9/dist-packages/sklearn/linear_model/_logistic.py:458: ConvergenceWarning: lbfgs failed to converge (status=1):\n",
            "STOP: TOTAL NO. of ITERATIONS REACHED LIMIT.\n",
            "\n",
            "Increase the number of iterations (max_iter) or scale the data as shown in:\n",
            "    https://scikit-learn.org/stable/modules/preprocessing.html\n",
            "Please also refer to the documentation for alternative solver options:\n",
            "    https://scikit-learn.org/stable/modules/linear_model.html#logistic-regression\n",
            "  n_iter_i = _check_optimize_result(\n"
          ]
        },
        {
          "output_type": "stream",
          "name": "stdout",
          "text": [
            "for C = 100, error rate is 0.07178571428571429\n",
            "for C = 100000.0, error rate is 0.07185714285714286\n"
          ]
        },
        {
          "output_type": "stream",
          "name": "stderr",
          "text": [
            "/usr/local/lib/python3.9/dist-packages/sklearn/linear_model/_logistic.py:458: ConvergenceWarning: lbfgs failed to converge (status=1):\n",
            "STOP: TOTAL NO. of ITERATIONS REACHED LIMIT.\n",
            "\n",
            "Increase the number of iterations (max_iter) or scale the data as shown in:\n",
            "    https://scikit-learn.org/stable/modules/preprocessing.html\n",
            "Please also refer to the documentation for alternative solver options:\n",
            "    https://scikit-learn.org/stable/modules/linear_model.html#logistic-regression\n",
            "  n_iter_i = _check_optimize_result(\n"
          ]
        }
      ]
    },
    {
      "cell_type": "markdown",
      "source": [
        "I pick C = 100 with error rate of 0.07142857 (all the errors are almost the same)"
      ],
      "metadata": {
        "id": "GF99a1cb-RJl"
      }
    },
    {
      "cell_type": "code",
      "source": [
        "#test\n",
        "lr = LogisticRegression(fit_intercept=True, C=100, penalty=\"l2\", multi_class=\"multinomial\", solver=\"lbfgs\")\n",
        "lr.fit(combo_X.reshape(combo_X.shape[0], 784), combo_y)\n",
        "lr_r_label = lr.predict(t_X.reshape(t_y.shape[0], 784))\n",
        "lr_r_err = np.count_nonzero(lr_r_label != t_y)\n",
        "print(f\"for C = {100}, final error rate is {lr_r_err/vali_y.size}\")"
      ],
      "metadata": {
        "colab": {
          "base_uri": "https://localhost:8080/"
        },
        "id": "NvBiblAO-QKy",
        "outputId": "6fcd16a7-9077-4e49-f9b5-bf4d6337016a"
      },
      "execution_count": 12,
      "outputs": [
        {
          "output_type": "stream",
          "name": "stdout",
          "text": [
            "for C = 1e-05, final error rate is 0.07942857142857143\n"
          ]
        },
        {
          "output_type": "stream",
          "name": "stderr",
          "text": [
            "/usr/local/lib/python3.9/dist-packages/sklearn/linear_model/_logistic.py:458: ConvergenceWarning: lbfgs failed to converge (status=1):\n",
            "STOP: TOTAL NO. of ITERATIONS REACHED LIMIT.\n",
            "\n",
            "Increase the number of iterations (max_iter) or scale the data as shown in:\n",
            "    https://scikit-learn.org/stable/modules/preprocessing.html\n",
            "Please also refer to the documentation for alternative solver options:\n",
            "    https://scikit-learn.org/stable/modules/linear_model.html#logistic-regression\n",
            "  n_iter_i = _check_optimize_result(\n"
          ]
        }
      ]
    },
    {
      "cell_type": "markdown",
      "source": [
        "### PCA"
      ],
      "metadata": {
        "id": "tT8IsBMwcljt"
      }
    },
    {
      "cell_type": "code",
      "source": [
        "def my_PCA(sliced_arr, num):\n",
        "  sliced_arr = sliced_arr.reshape(sliced_arr.shape[0], 784)\n",
        "  features = sliced_arr.T\n",
        "  cov_matrix = np.cov(features)\n",
        "  #cov_matrix[:5]\n",
        "  values, vectors = np.linalg.eig(cov_matrix)\n",
        "  #values[:5]\n",
        "  projected_1 = sliced_arr.dot(vectors.T[0])\n",
        "  projected_2 = sliced_arr.dot(vectors.T[1])\n",
        "\n",
        "  ret = []\n",
        "  for i in range(num):\n",
        "    ret.append(sliced_arr.dot(vectors.T[i]))\n",
        "  ret = np.array(ret)\n",
        "  return np.real(ret.T)"
      ],
      "metadata": {
        "id": "AjpxAOO_cmtA"
      },
      "execution_count": 8,
      "outputs": []
    },
    {
      "cell_type": "code",
      "source": [
        "from sklearn.decomposition import PCA\n",
        "from sklearn.exceptions import ConvergenceWarning\n",
        "import warnings\n",
        "from sklearn.metrics import accuracy_score\n",
        "\n",
        "def PCA_traverse(tr_X, tr_y, vali_X, vali_y): #this is function to find optimal C and PCA\n",
        "  acc = []\n",
        "  tr_X, vali_X = reshape(tr_X), reshape(vali_X)\n",
        "  with warnings.catch_warnings():\n",
        "    warnings.filterwarnings(\"ignore\", category=ConvergenceWarning)\n",
        "    x_train_tilde = tr_X - tr_X.mean(axis=0)\n",
        "    x_val_tilde = vali_X - vali_X.mean(axis=0)\n",
        "    U, S, Vt = np.linalg.svd(x_train_tilde, full_matrices=False)\n",
        "    for dim in [1, 50, 784]:\n",
        "      Vtm = Vt[:dim]\n",
        "      train_proj = x_train_tilde @ Vtm.T\n",
        "      val_proj = x_val_tilde @ Vtm.T\n",
        "      #PCA_tr_X, PCA_vali_X, = my_PCA(tr_X, dim), my_PCA(vali_X, dim)\n",
        "      for C in [1e-2, 100, 1e5]:\n",
        "        lr = LogisticRegression(fit_intercept=True, C=C, penalty=\"l2\", multi_class=\"multinomial\", solver=\"lbfgs\")\n",
        "        lr.fit(train_proj, tr_y)\n",
        "        lr_r_label = lr.predict(val_proj)\n",
        "        #lr_r_err = np.count_nonzero(lr_r_label != vali_y)\n",
        "        acc.append(accuracy_score(lr_r_label, vali_y))\n",
        "    i = 0\n",
        "    for dim in [1, 50, 784]:\n",
        "      for C in [1e-2, 100, 1e5]:\n",
        "        print(f\"for PCA dim of {dim} and C = {C}, final accuracy rate is {acc[i]}\")\n",
        "        i += 1"
      ],
      "metadata": {
        "id": "5JyYPRZtCiuS"
      },
      "execution_count": 19,
      "outputs": []
    },
    {
      "cell_type": "code",
      "source": [
        "PCA_traverse(tr_X, tr_y, vali_X, vali_y)"
      ],
      "metadata": {
        "colab": {
          "base_uri": "https://localhost:8080/"
        },
        "id": "r9lFpujzHu-D",
        "outputId": "39bd62c4-a4cb-4af8-a153-6ce0decd2add"
      },
      "execution_count": 20,
      "outputs": [
        {
          "output_type": "stream",
          "name": "stdout",
          "text": [
            "for PCA dim of 1 and C = 0.01, final accuracy rate is 0.30642857142857144\n",
            "for PCA dim of 1 and C = 100, final accuracy rate is 0.3072142857142857\n",
            "for PCA dim of 1 and C = 100000.0, final accuracy rate is 0.3072142857142857\n",
            "for PCA dim of 50 and C = 0.01, final accuracy rate is 0.9055\n",
            "for PCA dim of 50 and C = 100, final accuracy rate is 0.9057142857142857\n",
            "for PCA dim of 50 and C = 100000.0, final accuracy rate is 0.9057142857142857\n",
            "for PCA dim of 784 and C = 0.01, final accuracy rate is 0.9285714285714286\n",
            "for PCA dim of 784 and C = 100, final accuracy rate is 0.9288571428571428\n",
            "for PCA dim of 784 and C = 100000.0, final accuracy rate is 0.9288571428571428\n"
          ]
        }
      ]
    },
    {
      "cell_type": "markdown",
      "source": [
        "According to the test, with higher dimension of PCA and C there comes lower error rate, thus I choose PCA dim = 50 (cannot pick 784 cause they'll be the same as raw data) and C = 100 because there's no much difference between c = 1e5 or 100. \n",
        "With higher dimension allowed in PCA, the accuracy also increase, meaning that the feature of data is captured better. when dim = 1, the accuracy is really low, meaning that more feature are required to represent the image"
      ],
      "metadata": {
        "id": "Ac8PwC_yPBIC"
      }
    },
    {
      "cell_type": "code",
      "source": [
        "C, dim = 100, 50\n",
        "combo_X, t_X = reshape(combo_X), reshape(t_X)\n",
        "x_train_tilde = combo_X - combo_X.mean(axis=0)\n",
        "x_val_tilde = t_X - t_X.mean(axis=0)\n",
        "U, S, Vt = np.linalg.svd(x_train_tilde, full_matrices=False)\n",
        "Vtm = Vt[:dim]\n",
        "train_proj = x_train_tilde @ Vtm.T\n",
        "val_proj = x_val_tilde @ Vtm.T\n",
        "\n",
        "#PCA_tr_X, PCA_vali_X, = my_PCA(tr_X, dim), my_PCA(vali_X, dim)\n",
        "lr = LogisticRegression(fit_intercept=True, C=C, penalty=\"l2\", multi_class=\"multinomial\", solver=\"lbfgs\")\n",
        "lr.fit(x_train_tilde, combo_y)\n",
        "lr_r_label = lr.predict(x_val_tilde)\n",
        "print(f\"for PCA dim of {dim} and C = {C}, final accuracy is {accuracy_score(lr_r_label, t_y)}\")\n"
      ],
      "metadata": {
        "colab": {
          "base_uri": "https://localhost:8080/"
        },
        "id": "AA23WZEsPQLZ",
        "outputId": "e64acef5-67d6-4433-933d-d4b782e46849"
      },
      "execution_count": 24,
      "outputs": [
        {
          "output_type": "stream",
          "name": "stdout",
          "text": [
            "for PCA dim of 50 and C = 100, final accuracy is 0.9132857142857143\n"
          ]
        },
        {
          "output_type": "stream",
          "name": "stderr",
          "text": [
            "/usr/local/lib/python3.9/dist-packages/sklearn/linear_model/_logistic.py:458: ConvergenceWarning: lbfgs failed to converge (status=1):\n",
            "STOP: TOTAL NO. of ITERATIONS REACHED LIMIT.\n",
            "\n",
            "Increase the number of iterations (max_iter) or scale the data as shown in:\n",
            "    https://scikit-learn.org/stable/modules/preprocessing.html\n",
            "Please also refer to the documentation for alternative solver options:\n",
            "    https://scikit-learn.org/stable/modules/linear_model.html#logistic-regression\n",
            "  n_iter_i = _check_optimize_result(\n"
          ]
        }
      ]
    },
    {
      "cell_type": "markdown",
      "source": [
        "Both raw data and PCA hav lower error rate than Bayes rule with Bernoulli mixture"
      ],
      "metadata": {
        "id": "XxAIYEYWw0Wy"
      }
    },
    {
      "cell_type": "markdown",
      "source": [
        "## Stochastic gradient descent"
      ],
      "metadata": {
        "id": "GNDGHpEGc6dq"
      }
    },
    {
      "cell_type": "code",
      "source": [
        "#test with label binarizer\n",
        "from sklearn.preprocessing import LabelBinarizer\n",
        "encoder = LabelBinarizer()\n",
        "y_oh = LabelBinarizer().fit_transform(tr_y)\n",
        "print(y_oh.shape)"
      ],
      "metadata": {
        "colab": {
          "base_uri": "https://localhost:8080/"
        },
        "id": "2oAhOWX1nmUP",
        "outputId": "694e3116-f679-4a47-b5fc-81db4a439b35"
      },
      "execution_count": 72,
      "outputs": [
        {
          "output_type": "stream",
          "name": "stdout",
          "text": [
            "(42000, 10)\n"
          ]
        }
      ]
    },
    {
      "cell_type": "code",
      "source": [
        "from scipy.special import softmax\n",
        "from scipy.special import logsumexp\n",
        "from sklearn.preprocessing import LabelBinarizer\n",
        "\n",
        "def neg_likelihood(X, y, W):#loss\n",
        "  Z = - X @ W\n",
        "  return (1/X.shape[0]) * (np.trace(X @ W @ y.T) + np.sum(logsumexp(Z, axis=1)))\n",
        "  \n",
        "\n",
        "def gradient(X, y, W, reg):\n",
        "  P = softmax(-X @ W, axis=1) #likelihood\n",
        "  #print(X.T.shape, y.shape, P.shape, W.shape)\n",
        "  N = X.shape[0]\n",
        "  gradient = (1/N)*(X.T @ (y-P)) + 2*reg*W\n",
        "  return gradient\n",
        "\n",
        "def SGD(data, Y, learning_rate, step, reg):\n",
        "  data = data.reshape(data.shape[0], 784)\n",
        "  y = LabelBinarizer().fit_transform(Y)\n",
        "  W = np.zeros((data.shape[1], y.shape[1])) #theta\n",
        "  L = 0\n",
        "  print(\"start training...\")\n",
        "  for i in range(step):\n",
        "    #print(f\"========= Epoch {i} =========\")\n",
        "    batch_idx = np.random.choice(data.shape[0], size=500, replace=False) #I choose batch size = 50\n",
        "    batch_X, batch_y = data[batch_idx], y[batch_idx]\n",
        "    W -= learning_rate*gradient(batch_X, batch_y, W, reg)\n",
        "    new_L = neg_likelihood(batch_X, batch_y, W)\n",
        "    if i%200 == 0:\n",
        "      print(f\"epoch {i}, now loss is {new_L}\")\n",
        "    if abs(L - new_L) < 1e-7:\n",
        "      print(\"converge\")\n",
        "      break #converge\n",
        "    L = new_L \n",
        "  return W\n",
        "\n",
        "def err_rate(W, X, y):\n",
        "  X = X.reshape(X.shape[0], 784)\n",
        "  P = softmax((-X @ W) , axis=1)\n",
        "  rate = np.count_nonzero(np.argmax(P, axis=1) != y)/X.shape[0]\n",
        "  return rate"
      ],
      "metadata": {
        "id": "VZd_4eAVF29Q"
      },
      "execution_count": 151,
      "outputs": []
    },
    {
      "cell_type": "code",
      "source": [
        "learning, step = 0.1, 1000\n",
        "for l in [0, 1e-7, 1e-5, 0.001, 0.1]: #I normalize the data below, so accompanying it with smaller lambda\n",
        "  print(f\"========= C {l} =========\")\n",
        "  W = SGD(tr_X/100, tr_y, learning, step, l)\n",
        "  err = err_rate(W, vali_X/100, vali_y) \n",
        "\n",
        "  print(f\"for C = {l}, error rate is {err}\")"
      ],
      "metadata": {
        "colab": {
          "base_uri": "https://localhost:8080/"
        },
        "id": "OGcSLMQIe2d8",
        "outputId": "14105f39-8036-4399-e5d5-cbe4f0a71452"
      },
      "execution_count": 166,
      "outputs": [
        {
          "output_type": "stream",
          "name": "stdout",
          "text": [
            "========= C 0 =========\n",
            "start training...\n",
            "epoch 0, now loss is 1.720052169473933\n",
            "epoch 200, now loss is 0.35682354087625573\n",
            "epoch 400, now loss is 0.2403704713108855\n",
            "epoch 600, now loss is 0.26368788449566183\n",
            "epoch 800, now loss is 0.22497972505924918\n",
            "for C = 0, error rate is 0.08214285714285714\n",
            "========= C 1e-07 =========\n",
            "start training...\n",
            "epoch 0, now loss is 1.6533538958594163\n",
            "epoch 200, now loss is 0.3784568591899006\n",
            "epoch 400, now loss is 0.2998280121147609\n",
            "epoch 600, now loss is 0.2878431420253073\n",
            "epoch 800, now loss is 0.28107623888353556\n",
            "for C = 1e-07, error rate is 0.08021428571428571\n",
            "========= C 1e-05 =========\n",
            "start training...\n",
            "epoch 0, now loss is 1.6752658059929904\n",
            "epoch 200, now loss is 0.3497755057339655\n",
            "epoch 400, now loss is 0.2860141035436145\n",
            "epoch 600, now loss is 0.3241454667158814\n",
            "epoch 800, now loss is 0.28274412877913074\n",
            "for C = 1e-05, error rate is 0.07978571428571428\n",
            "========= C 0.001 =========\n",
            "start training...\n",
            "epoch 0, now loss is 1.7408909930818348\n",
            "epoch 200, now loss is 0.36329636529761955\n",
            "epoch 400, now loss is 0.26220421999198334\n",
            "epoch 600, now loss is 0.25569817638806674\n",
            "epoch 800, now loss is 0.2896253327352597\n",
            "for C = 0.001, error rate is 0.08021428571428571\n",
            "========= C 0.1 =========\n",
            "start training...\n",
            "epoch 0, now loss is 1.67609209254427\n",
            "epoch 200, now loss is 0.5254835469287354\n",
            "epoch 400, now loss is 0.5346960099644493\n",
            "epoch 600, now loss is 0.5581184536791889\n",
            "epoch 800, now loss is 0.5023398280097177\n",
            "for C = 0.1, error rate is 0.12435714285714286\n"
          ]
        }
      ]
    },
    {
      "cell_type": "markdown",
      "source": [
        "test with different regularization factor $\\lambda$, I pick C = $1/\\lambda$ = 1e-05 (error rate) (there're no much big diffrernt between different reg factor though)"
      ],
      "metadata": {
        "id": "ds9llKAgfWp_"
      }
    },
    {
      "cell_type": "code",
      "source": [
        "#test data\n",
        "W_t = SGD(combo_X/100, combo_y, learning, step, 1e-5)\n",
        "err = err_rate(W, t_X/100, t_y) \n",
        "print(f\"final error rate is {err}\")\n",
        "\n"
      ],
      "metadata": {
        "colab": {
          "base_uri": "https://localhost:8080/"
        },
        "id": "eepaYJq7Bmhn",
        "outputId": "d1acd6e7-987d-4912-8366-90cb953c7a22"
      },
      "execution_count": 167,
      "outputs": [
        {
          "output_type": "stream",
          "name": "stdout",
          "text": [
            "start training...\n",
            "epoch 0, now loss is 1.6844762875393127\n",
            "epoch 200, now loss is 0.346113688361821\n",
            "epoch 400, now loss is 0.30455367835248764\n",
            "epoch 600, now loss is 0.2838441133299548\n",
            "epoch 800, now loss is 0.2286968853359922\n",
            "final error rate is 0.13064285714285714\n"
          ]
        }
      ]
    },
    {
      "cell_type": "markdown",
      "source": [
        "observation: SGD result has slightly larger error rate than simple logistic regression for both raw data, smaller error rate comparing to PCA projection with low dimension"
      ],
      "metadata": {
        "id": "I0w87bnx250U"
      }
    }
  ]
}